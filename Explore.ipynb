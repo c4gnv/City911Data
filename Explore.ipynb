{
 "cells": [
  {
   "cell_type": "code",
   "execution_count": null,
   "id": "3b4644b0-bb01-4e4d-ad45-c72b4e501e2d",
   "metadata": {},
   "outputs": [],
   "source": [
    "# Download dataset\n",
    "import pathlib\n",
    "import requests\n",
    "import pandas\n",
    "url = 'https://data.cityofgainesville.org/api/views/gvua-xt9q/rows.csv?accessType=DOWNLOAD'\n",
    "dataset = pathlib.Path('./Crime_Responses.csv')\n",
    "\n",
    "if not dataset.exists():\n",
    "    r = requests.get(url)\n",
    "    with open(dataset, 'w') as f:\n",
    "        f.write(r.text)"
   ]
  },
  {
   "cell_type": "code",
   "execution_count": null,
   "id": "3032c904-27d3-430e-9fe5-35b227172498",
   "metadata": {},
   "outputs": [],
   "source": [
    "# Load into DataFrame\n",
    "df = pandas.read_csv(dataset, keep_default_na=False)"
   ]
  },
  {
   "cell_type": "code",
   "execution_count": null,
   "id": "2d1accd1-5c02-433e-ab1d-a6c40cd4b707",
   "metadata": {},
   "outputs": [],
   "source": [
    "# 'Incident Type' and any columns related to time and location are probably interesting\n",
    "df.columns"
   ]
  },
  {
   "cell_type": "code",
   "execution_count": null,
   "id": "f61d3056-c4ca-469c-bd90-5a59d573e716",
   "metadata": {},
   "outputs": [],
   "source": [
    "# Incident types by how many have been recorded\n",
    "for idx, name in enumerate(df['Incident Type'].value_counts().index.tolist()):\n",
    "    print(name, df['Incident Type'].value_counts()[idx])"
   ]
  },
  {
   "cell_type": "code",
   "execution_count": null,
   "id": "e0ee0764-e27a-4e19-82ce-7ee9811ca514",
   "metadata": {},
   "outputs": [],
   "source": [
    "# Verify Report Date format\n",
    "from datetime import datetime\n",
    "for date_str in df['Report Date'].unique():\n",
    "    dt_obj = datetime.strptime(date_str, '%m/%d/%Y %I:%M:%S %p')"
   ]
  },
  {
   "cell_type": "code",
   "execution_count": null,
   "id": "4a408da4-1aa4-45bd-ace0-122af52248b4",
   "metadata": {},
   "outputs": [],
   "source": [
    "# Filter by my favorite incident type\n",
    "df[df['Incident Type'] == 'Molestation of Vending Machine']"
   ]
  },
  {
   "cell_type": "code",
   "execution_count": null,
   "id": "47ab6afa-7df1-415c-8b3e-8435a302c5b7",
   "metadata": {},
   "outputs": [],
   "source": []
  }
 ],
 "metadata": {
  "kernelspec": {
   "display_name": "Python 3 (ipykernel)",
   "language": "python",
   "name": "python3"
  },
  "language_info": {
   "codemirror_mode": {
    "name": "ipython",
    "version": 3
   },
   "file_extension": ".py",
   "mimetype": "text/x-python",
   "name": "python",
   "nbconvert_exporter": "python",
   "pygments_lexer": "ipython3",
   "version": "3.10.6"
  }
 },
 "nbformat": 4,
 "nbformat_minor": 5
}
